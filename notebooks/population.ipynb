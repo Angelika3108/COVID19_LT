{
 "cells": [
  {
   "cell_type": "code",
   "execution_count": 1,
   "id": "db409da8",
   "metadata": {},
   "outputs": [
    {
     "data": {
      "text/html": [
       "<div>\n",
       "<style scoped>\n",
       "    .dataframe tbody tr th:only-of-type {\n",
       "        vertical-align: middle;\n",
       "    }\n",
       "\n",
       "    .dataframe tbody tr th {\n",
       "        vertical-align: top;\n",
       "    }\n",
       "\n",
       "    .dataframe thead th {\n",
       "        text-align: right;\n",
       "    }\n",
       "</style>\n",
       "<table border=\"1\" class=\"dataframe\">\n",
       "  <thead>\n",
       "    <tr style=\"text-align: right;\">\n",
       "      <th></th>\n",
       "      <th>municipality_name</th>\n",
       "      <th>population</th>\n",
       "      <th>0</th>\n",
       "      <th>1</th>\n",
       "      <th>2</th>\n",
       "      <th>3</th>\n",
       "      <th>4</th>\n",
       "      <th>5</th>\n",
       "      <th>6</th>\n",
       "      <th>7</th>\n",
       "      <th>...</th>\n",
       "      <th>76</th>\n",
       "      <th>77</th>\n",
       "      <th>78</th>\n",
       "      <th>79</th>\n",
       "      <th>80</th>\n",
       "      <th>81</th>\n",
       "      <th>82</th>\n",
       "      <th>83</th>\n",
       "      <th>84</th>\n",
       "      <th>85</th>\n",
       "    </tr>\n",
       "  </thead>\n",
       "  <tbody>\n",
       "    <tr>\n",
       "      <th>0</th>\n",
       "      <td>Lietuvos Respublika</td>\n",
       "      <td>2810761.0</td>\n",
       "      <td>23546.0</td>\n",
       "      <td>25068.0</td>\n",
       "      <td>26826.0</td>\n",
       "      <td>27940.0</td>\n",
       "      <td>29269.0</td>\n",
       "      <td>29407.0</td>\n",
       "      <td>28399.0</td>\n",
       "      <td>27720.0</td>\n",
       "      <td>...</td>\n",
       "      <td>19672.0</td>\n",
       "      <td>22090.0</td>\n",
       "      <td>23392.0</td>\n",
       "      <td>21720.0</td>\n",
       "      <td>19279.0</td>\n",
       "      <td>18206.0</td>\n",
       "      <td>17481.0</td>\n",
       "      <td>16083.0</td>\n",
       "      <td>15142.0</td>\n",
       "      <td>72648.0</td>\n",
       "    </tr>\n",
       "  </tbody>\n",
       "</table>\n",
       "<p>1 rows × 88 columns</p>\n",
       "</div>"
      ],
      "text/plain": [
       "     municipality_name  population        0        1        2        3  \\\n",
       "0  Lietuvos Respublika   2810761.0  23546.0  25068.0  26826.0  27940.0   \n",
       "\n",
       "         4        5        6        7  ...       76       77       78  \\\n",
       "0  29269.0  29407.0  28399.0  27720.0  ...  19672.0  22090.0  23392.0   \n",
       "\n",
       "        79       80       81       82       83       84       85  \n",
       "0  21720.0  19279.0  18206.0  17481.0  16083.0  15142.0  72648.0  \n",
       "\n",
       "[1 rows x 88 columns]"
      ]
     },
     "execution_count": 1,
     "metadata": {},
     "output_type": "execute_result"
    }
   ],
   "source": [
    "import pandas as pd\n",
    "import numpy as np\n",
    "pop_df = pd.read_excel('../data/population_2021.xlsx', sheet_name=0)\n",
    "pop_df=pop_df.drop('Nenurodyta', axis=1)\n",
    "pop_df=pop_df.rename(columns={'85 ir vyresni': '85'})\n",
    "pop_df=pop_df.iloc[:1]\n",
    "pop_df.head()\n"
   ]
  },
  {
   "cell_type": "code",
   "execution_count": 2,
   "id": "53fed07f",
   "metadata": {},
   "outputs": [
    {
     "data": {
      "text/html": [
       "<div>\n",
       "<style scoped>\n",
       "    .dataframe tbody tr th:only-of-type {\n",
       "        vertical-align: middle;\n",
       "    }\n",
       "\n",
       "    .dataframe tbody tr th {\n",
       "        vertical-align: top;\n",
       "    }\n",
       "\n",
       "    .dataframe thead th {\n",
       "        text-align: right;\n",
       "    }\n",
       "</style>\n",
       "<table border=\"1\" class=\"dataframe\">\n",
       "  <thead>\n",
       "    <tr style=\"text-align: right;\">\n",
       "      <th></th>\n",
       "      <th>age</th>\n",
       "      <th>pop_per_age</th>\n",
       "      <th>population</th>\n",
       "    </tr>\n",
       "  </thead>\n",
       "  <tbody>\n",
       "    <tr>\n",
       "      <th>1</th>\n",
       "      <td>0</td>\n",
       "      <td>23546.0</td>\n",
       "      <td>23546</td>\n",
       "    </tr>\n",
       "    <tr>\n",
       "      <th>2</th>\n",
       "      <td>1</td>\n",
       "      <td>25068.0</td>\n",
       "      <td>25068</td>\n",
       "    </tr>\n",
       "    <tr>\n",
       "      <th>3</th>\n",
       "      <td>2</td>\n",
       "      <td>26826.0</td>\n",
       "      <td>26826</td>\n",
       "    </tr>\n",
       "    <tr>\n",
       "      <th>4</th>\n",
       "      <td>3</td>\n",
       "      <td>27940.0</td>\n",
       "      <td>27940</td>\n",
       "    </tr>\n",
       "    <tr>\n",
       "      <th>5</th>\n",
       "      <td>4</td>\n",
       "      <td>29269.0</td>\n",
       "      <td>29269</td>\n",
       "    </tr>\n",
       "  </tbody>\n",
       "</table>\n",
       "</div>"
      ],
      "text/plain": [
       "   age  pop_per_age  population\n",
       "1    0      23546.0       23546\n",
       "2    1      25068.0       25068\n",
       "3    2      26826.0       26826\n",
       "4    3      27940.0       27940\n",
       "5    4      29269.0       29269"
      ]
     },
     "execution_count": 2,
     "metadata": {},
     "output_type": "execute_result"
    }
   ],
   "source": [
    "# pivot the table to have dates as index and age as columns\n",
    "df_melted = pd.melt(\n",
    "    pop_df,\n",
    "    id_vars='municipality_name',       # Column to keep\n",
    "    var_name='age',                    # New column for former headers\n",
    "    value_name='pop_per_age'            # Values go here\n",
    ")\n",
    "df_melted.drop('municipality_name', axis=1, inplace=True) \n",
    "df_melted=df_melted.iloc[1:] \n",
    "df_melted['population'] = df_melted['pop_per_age'].astype(int)\n",
    "df_melted['age'] = df_melted['age'].astype(int)\n",
    "df_melted.head()"
   ]
  },
  {
   "cell_type": "code",
   "execution_count": 3,
   "id": "deb15303",
   "metadata": {},
   "outputs": [
    {
     "name": "stdout",
     "output_type": "stream",
     "text": [
      "  age_group  population\n",
      "0       0-9      251743\n",
      "1     10-19      271449\n",
      "2     20-29      312264\n",
      "3     30-39      382619\n",
      "4     40-49      374566\n",
      "5     50-59      424640\n",
      "6     60-69      369020\n",
      "7     70-79      242075\n",
      "8       80+      158839\n"
     ]
    },
    {
     "name": "stderr",
     "output_type": "stream",
     "text": [
      "C:\\Users\\Laptop\\AppData\\Local\\Temp\\ipykernel_11292\\876893330.py:9: FutureWarning: The default of observed=False is deprecated and will be changed to True in a future version of pandas. Pass observed=False to retain current behavior or observed=True to adopt the future default and silence this warning.\n",
      "  pop_age = df_melted.groupby('age_group', as_index=False)['population'].sum()\n"
     ]
    }
   ],
   "source": [
    "# Define your age bins and labels\n",
    "bins = [0, 9, 19, 29, 39, 49, 59, 69, 79, np.inf]\n",
    "labels = ['0-9', '10-19', '20-29', '30-39', '40-49', '50-59', '60-69', '70-79', '80+']\n",
    "\n",
    "# Add age_group column based on age\n",
    "df_melted['age_group'] = pd.cut(df_melted['age'], bins=bins, labels=labels, right=True)\n",
    "\n",
    "# Group by age_group and sum the population\n",
    "pop_age = df_melted.groupby('age_group', as_index=False)['population'].sum()\n",
    "\n",
    "# Resulting df_grouped now has only 'age_group' and 'population' columns\n",
    "print(pop_age)\n",
    "# Save the result to a new Excel file\n",
    "pop_age.to_excel('../data/population_by_age_group.xlsx', index=False)\n"
   ]
  }
 ],
 "metadata": {
  "kernelspec": {
   "display_name": "Python 3",
   "language": "python",
   "name": "python3"
  },
  "language_info": {
   "codemirror_mode": {
    "name": "ipython",
    "version": 3
   },
   "file_extension": ".py",
   "mimetype": "text/x-python",
   "name": "python",
   "nbconvert_exporter": "python",
   "pygments_lexer": "ipython3",
   "version": "3.10.11"
  }
 },
 "nbformat": 4,
 "nbformat_minor": 5
}
